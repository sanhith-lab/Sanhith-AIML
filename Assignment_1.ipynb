{
  "nbformat": 4,
  "nbformat_minor": 0,
  "metadata": {
    "colab": {
      "provenance": [],
      "authorship_tag": "ABX9TyMXZybEvLlRo1kiDXqVlMKg",
      "include_colab_link": true
    },
    "kernelspec": {
      "name": "python3",
      "display_name": "Python 3"
    },
    "language_info": {
      "name": "python"
    }
  },
  "cells": [
    {
      "cell_type": "markdown",
      "metadata": {
        "id": "view-in-github",
        "colab_type": "text"
      },
      "source": [
        "<a href=\"https://colab.research.google.com/github/sanhith-lab/Sanhith-AIML/blob/main/Assignment_1.ipynb\" target=\"_parent\"><img src=\"https://colab.research.google.com/assets/colab-badge.svg\" alt=\"Open In Colab\"/></a>"
      ]
    },
    {
      "cell_type": "code",
      "execution_count": null,
      "metadata": {
        "colab": {
          "base_uri": "https://localhost:8080/"
        },
        "id": "jUuy5ZN4ATFb",
        "outputId": "b2f72229-54c6-4e3a-9b90-ef5ffd089be5"
      },
      "outputs": [
        {
          "output_type": "stream",
          "name": "stdout",
          "text": [
            "    Name  Age  Height  Weight\n",
            "0  kiran   25     145      45\n",
            "1   Arun   30     135      55\n",
            "2  Vijay   35     140      63\n",
            "3  Varun   40     230      92\n"
          ]
        }
      ],
      "source": [
        "import pandas as pd\n",
        "people = ['kiran','Arun','Vijay','Varun']\n",
        "age =[25,30,35,40]\n",
        "height = [145,135,140,230]\n",
        "weight = [45,55,63,92]\n",
        "data={\n",
        "    'Name' : people,\n",
        "    'Age' : age,\n",
        "    'Height' : height,\n",
        "    'Weight' : weight,\n",
        "}\n",
        "df=pd.DataFrame(data)\n",
        "print(df)"
      ]
    }
  ]
}