{
  "nbformat": 4,
  "nbformat_minor": 0,
  "metadata": {
    "colab": {
      "provenance": [],
      "authorship_tag": "ABX9TyPbpaZSs8cOuHvUhtYDumYN",
      "include_colab_link": true
    },
    "kernelspec": {
      "name": "python3",
      "display_name": "Python 3"
    },
    "language_info": {
      "name": "python"
    }
  },
  "cells": [
    {
      "cell_type": "markdown",
      "metadata": {
        "id": "view-in-github",
        "colab_type": "text"
      },
      "source": [
        "<a href=\"https://colab.research.google.com/github/sanhith-lab/Sanhith-AIML/blob/main/Assignment_3.ipynb\" target=\"_parent\"><img src=\"https://colab.research.google.com/assets/colab-badge.svg\" alt=\"Open In Colab\"/></a>"
      ]
    },
    {
      "cell_type": "code",
      "source": [
        "from collections import deque\n",
        "\n",
        "def bfs(graph,start):\n",
        "  visited = set ()\n",
        "  queue = deque([start])\n",
        "  result = []\n",
        "  while queue:\n",
        "    node = queue.popleft()\n",
        "    if node not in visited:\n",
        "      visited.add(node)\n",
        "      result.append(node)\n",
        "    queue.extend(neighbor for neighbor in graph[node] if neighbor not in visited)\n",
        "  return result\n",
        "\n",
        "if __name__ == \"__main__\":\n",
        "        graph={\n",
        "            '0':['1','3'],\n",
        "            '1':['0','2','3'],\n",
        "            '3':['0','4'],\n",
        "            '2':['1'],\n",
        "            '4':['2','5'],\n",
        "            '5':['2','4']\n",
        "        }\n",
        "        start_node ='0'\n",
        "        print(f\"Bfs traversal starting from node {start_node}:{bfs(graph,start_node)}\")"
      ],
      "metadata": {
        "colab": {
          "base_uri": "https://localhost:8080/"
        },
        "id": "6qMmYfYATUHy",
        "outputId": "68972891-e19a-4780-fc0f-d4d21392f85d"
      },
      "execution_count": null,
      "outputs": [
        {
          "output_type": "stream",
          "name": "stdout",
          "text": [
            "Bfs traversal starting from node 0:['0', '1', '3', '2', '4', '5']\n"
          ]
        }
      ]
    }
  ]
}